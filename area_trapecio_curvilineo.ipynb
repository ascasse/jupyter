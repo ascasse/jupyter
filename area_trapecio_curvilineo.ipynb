{
 "cells": [
  {
   "cell_type": "markdown",
   "id": "bfd7b496-e219-424d-8b9e-144166749059",
   "metadata": {},
   "source": [
    "# Área del trapecio curvilíneo\n",
    "\n",
    "Supongamos que vamos a dividir el segmento $(a,b)$ en $n$ rectángulos. Para simplificar los cálculos, se eligen las abscisas según una sucesión geométrica de razón $q$\n",
    "\n",
    "$$\n",
    "\\begin{align}\n",
    "    a &= a \\\\\n",
    "    a_1 &= a \\cdot q \\\\\n",
    "    a_2 &= a \\cdot q^2 \\\\\n",
    "    a_3 &= a \\cdot q^3 \\\\\n",
    "    a_4 &= a \\cdot q^4 \\\\\n",
    "    &\\dots \\\\\n",
    "    a_n &= a \\cdot q^n = b\n",
    "\\end{align}\n",
    "$$\n",
    "\n",
    "Es importante notar que se elige $q$ de modo que $aq^n=b$."
   ]
  },
  {
   "cell_type": "markdown",
   "id": "06744299-4c4d-49f3-a780-b4cc4c465aa8",
   "metadata": {},
   "source": [
    "Las distancias entre abscisas, que serán la base de los rectángulos, también son una sucesión geométrica de la misma razón.\n",
    "\n",
    "$$\n",
    "\\begin{align}\n",
    "    d_1 &= a_1 - a = aq - a = a(q-1) \\\\\n",
    "    d_2 &= a_2 - a_1 = aq^2 - aq = a(q-1)q \\\\\n",
    "    d_3 &= a_3 - a_2 = aq^3 - aq^2 = a(q-1)q^2 \\\\\n",
    "    d_4 &= a_4 - a_3 = aq^4 - aq^3 = a(q-1)q^3 \\\\\n",
    "    &\\dots \\\\\n",
    "    d_{n} &= a_n - a_{n -1} = aq^{n} - aq^{n - 1} = a(q-1)q^{n - 1} \n",
    "\\end{align}\n",
    "$$"
   ]
  },
  {
   "cell_type": "markdown",
   "id": "4b71b0db-b464-4408-9bcf-ab11b834b731",
   "metadata": {},
   "source": [
    "Si el trapecio curvilíneo viene determinado por la función $y = x^5$ en $(a,b)$ las alturas de los rectángulos serán\n",
    "\n",
    "$$\n",
    "\\begin{align}\n",
    "    y_1 &= a^5 \\\\\n",
    "    y_2 &= (aq)^5 = a^5q^5 \\\\\n",
    "    y_3 &= (aq^2)^5 = a^5q^{10} \\\\\n",
    "    y_4 &= (aq^3)^5 = a^5q^{15} \\\\\n",
    "    y_5 &= (aq^4)^5 = a^5q^{20} \\\\\n",
    "\\end{align}\n",
    "$$"
   ]
  },
  {
   "cell_type": "markdown",
   "id": "a491a47d-ac21-424c-9625-cc32b328796c",
   "metadata": {},
   "source": [
    "Y las áreas de los rectángulos, \n",
    "$$\n",
    "\\begin{align}\n",
    "    area_1 &= d_1 \\cdot y_1 = a(q-1)    a^5       = a^6(q-1)        \\\\\n",
    "    area_2 &= d_2 \\cdot y_2 = a(q-1)q   a^5q^5    = a^6(q-1)q^6     \\\\\n",
    "    area_3 &= d_3 \\cdot y_3 = a(q-1)q^2 a^5q^{10} = a^6(q-1)q^{12}  \\\\\n",
    "    area_4 &= d_4 \\cdot y_4 = a(q-1)q^3 a^5q^{15} = a^6(q-1)q^{18}  \\\\\n",
    "    area_5 &= d_5 \\cdot y_5 = a(q-1)q^4 a^5q^{20} = a^6(q-1)q^{24}  \\\\\n",
    "\\end{align}\n",
    "$$\n",
    "forman una progresión geométrica de razón $q^6$"
   ]
  },
  {
   "cell_type": "markdown",
   "id": "29f59ffb-94e6-4c70-9129-9e490bcd3cc0",
   "metadata": {},
   "source": [
    "La suma de las áreas es la de una progresión geométrica de razón $q^6$ cuyo primer término es $a^6(q-1)$ y el último es $a^6(q-1)q^{6(n-1)}$ donde $n$ es el número de rectángulos en los que se divide el segmento $(a, b)$. En este caso, serían 5"
   ]
  },
  {
   "cell_type": "markdown",
   "id": "9e11f269",
   "metadata": {},
   "source": [
    "$$\n",
    "    S = \\frac{a^6(q-1)q^{6(n-1)}q^6 - a^6(q-1)}{q^6 - 1}\n",
    "$$"
   ]
  },
  {
   "cell_type": "markdown",
   "id": "8ea24d11-b1ca-4064-9c96-f6c60d262312",
   "metadata": {},
   "source": [
    "Agrupando términos\n",
    "\n",
    "$$\n",
    "    \\begin{align}\n",
    "        S &=\\frac{(a^6q^{6(n-1)}q^6 -a^6)(q-1)}{q^6 - 1} \\\\\n",
    "            &=\\frac{(a^6q^{6n}-a^6)(q - 1)}{q^6 - 1}     \\\\\n",
    "            &=(a^6q^{6n}-a^6)\\frac{q-1}{q^6-1}           \\\\\n",
    "            &=((aq^n)^6 - a^6)\\frac{q-1}{q^6-1}           \\\\\n",
    "    \\end{align}\n",
    "$$"
   ]
  },
  {
   "cell_type": "markdown",
   "id": "49951a67-7a22-4f1b-a634-8cb1768420c6",
   "metadata": {},
   "source": [
    "Teniendo en cuenta, como se indicó al principio que\n",
    "$$\n",
    "    b = aq^n\n",
    "$$\n",
    "y la progresión geométrica\n",
    "$$\n",
    "    1 + q + q^2 + \\dots + q^{n - 1} \n",
    "$$\n",
    "cuya suma es \n",
    "$$\n",
    "    \\frac{q^{n-1}q - 1}{q - 1} = \\frac{q^6 - 1}{q - 1}\n",
    "$$"
   ]
  },
  {
   "cell_type": "markdown",
   "id": "6d2da89c-ffa4-461f-ba85-5052a50878bb",
   "metadata": {},
   "source": [
    "Se tiene\n",
    "$$\n",
    "    S = \\frac{b^6 - a^6}{1 + q + q^2 + \\dots + q^{n - 1}}\n",
    "$$"
   ]
  }
 ],
 "metadata": {
  "kernelspec": {
   "display_name": "Python 3 (ipykernel)",
   "language": "python",
   "name": "python3"
  },
  "language_info": {
   "codemirror_mode": {
    "name": "ipython",
    "version": 3
   },
   "file_extension": ".py",
   "mimetype": "text/x-python",
   "name": "python",
   "nbconvert_exporter": "python",
   "pygments_lexer": "ipython3",
   "version": "3.10.6"
  },
  "vscode": {
   "interpreter": {
    "hash": "18411214fdb22813c6650c97c557cf7d47d55901b636f0287c80d8e709bc1691"
   }
  }
 },
 "nbformat": 4,
 "nbformat_minor": 5
}
