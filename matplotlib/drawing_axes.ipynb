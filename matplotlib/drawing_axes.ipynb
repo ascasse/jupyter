{
 "cells": [
  {
   "cell_type": "code",
   "execution_count": null,
   "metadata": {},
   "outputs": [],
   "source": [
    "import matplotlib.pyplot as plt"
   ]
  },
  {
   "cell_type": "markdown",
   "metadata": {},
   "source": [
    "### Centered axes"
   ]
  },
  {
   "cell_type": "code",
   "execution_count": null,
   "metadata": {},
   "outputs": [],
   "source": [
    "fig = plt.figure()\n",
    "ax = fig.add_subplot(1, 1, 1, aspect=\"equal\")\n",
    "\n",
    "# forces that spines intersect at 0,0\n",
    "ax.spines[\"left\"].set_position(\"zero\")\n",
    "ax.spines[\"bottom\"].set_position(\"zero\")\n",
    "\n",
    "# set arbitrary axes dimensions\n",
    "ax.set_xlim(-1, 1)\n",
    "ax.set_ylim(-1, 1)\n",
    "\n",
    "# Eliminate upper and right spines\n",
    "ax.spines[\"right\"].set_color(\"none\")\n",
    "ax.spines[\"top\"].set_color(\"none\")\n",
    "\n",
    "ax.get_xaxis().set_ticks([-1, -0.5, 0.5, 1])\n",
    "ax.get_yaxis().set_ticks([-1, -0.5, 0.5, 1])"
   ]
  },
  {
   "cell_type": "markdown",
   "metadata": {},
   "source": [
    "### Different length axes"
   ]
  },
  {
   "cell_type": "code",
   "execution_count": null,
   "metadata": {},
   "outputs": [],
   "source": [
    "fig = plt.figure()\n",
    "ax = fig.add_subplot(1, 1, 1, aspect=\"equal\")\n",
    "\n",
    "# forces that spines intersect at 0,0\n",
    "ax.spines[\"left\"].set_position(\"zero\")\n",
    "ax.spines[\"bottom\"].set_position(\"zero\")\n",
    "\n",
    "# set arbitrary axes dimensions\n",
    "ax.set_xlim(-1, 3)\n",
    "ax.set_ylim(-1, 1)\n",
    "\n",
    "# Eliminate upper and right spines\n",
    "ax.spines[\"right\"].set_color(\"none\")\n",
    "ax.spines[\"top\"].set_color(\"none\")\n",
    "\n",
    "ax.get_xaxis().set_ticks([-1, -0.5, 0.5, 1, 1.5, 2, 2.5])\n",
    "ax.get_yaxis().set_ticks([-1, -0.5, 0.5, 1])\n",
    "\n"
   ]
  },
  {
   "cell_type": "code",
   "execution_count": null,
   "metadata": {},
   "outputs": [],
   "source": [
    "fig = plt.figure()\n",
    "ax = fig.add_subplot(1, 1, 1, aspect=\"equal\")\n",
    "\n",
    "# forces that spines intersect at 0,0\n",
    "ax.spines[\"left\"].set_position(\"zero\")\n",
    "ax.spines[\"bottom\"].set_position(\"zero\")\n",
    "\n",
    "# set arbitrary axes dimensions\n",
    "ax.set_xlim(-0.5, 3)\n",
    "ax.set_ylim(-0.5, 2)\n",
    "\n",
    "# Eliminate upper and right spines\n",
    "ax.spines[\"right\"].set_color(\"none\")\n",
    "ax.spines[\"top\"].set_color(\"none\")\n",
    "\n",
    "ax.get_xaxis().set_ticks([-0.5, 0.5, 1, 1.5, 2, 2.5])\n",
    "ax.get_yaxis().set_ticks([-0.5, 0.5, 1])"
   ]
  }
 ],
 "metadata": {
  "kernelspec": {
   "display_name": "Python 3.9.5 ('venv_deep_learning': venv)",
   "language": "python",
   "name": "python3"
  },
  "language_info": {
   "codemirror_mode": {
    "name": "ipython",
    "version": 3
   },
   "file_extension": ".py",
   "mimetype": "text/x-python",
   "name": "python",
   "nbconvert_exporter": "python",
   "pygments_lexer": "ipython3",
   "version": "3.9.5"
  },
  "orig_nbformat": 4,
  "vscode": {
   "interpreter": {
    "hash": "739c1830d1acc869fd7d80f318f6cacb69bc586c1b907357f29a7c477752c5a8"
   }
  }
 },
 "nbformat": 4,
 "nbformat_minor": 2
}
