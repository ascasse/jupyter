{
  "cells": [
    {
      "cell_type": "code",
      "execution_count": null,
      "metadata": {
        "colab": {
          "base_uri": "https://localhost:8080/",
          "height": 473
        },
        "colab_type": "code",
        "id": "j5RrNPMmGwrz",
        "outputId": "aa4407b3-4b62-4158-9678-b260f131bb9d"
      },
      "outputs": [],
      "source": [
        "import matplotlib.pyplot as plt\n",
        "import numpy as np\n",
        "\n",
        "\n",
        "def xy(r, phi,  c_1=0.0, c_2=0.0):\n",
        "    ''' Cartesian coordinates for point at polar coordinates r, phi with origin (c_1, c_2) '''\n",
        "    return r*np.cos(phi) + c_1, r*np.sin(phi) + c_2\n",
        "\n",
        "def circle(r, phi_0=0.0, phi_1=2*np.pi, c_1=0.0, c_2=0.0):\n",
        "    ''' \n",
        "    Circle arc with center (c_1, c_2) and radius r between the given angle values.\n",
        "    \n",
        "    Args:\n",
        "\n",
        "      - r (float) :     Circle radius\n",
        "      - phi_0 (float):  Angle for origin point of the arc \n",
        "      - phi_1 (float):  Angle for end point of the arc\n",
        "      - c_1 (float):    x coordinate of circle center\n",
        "      - c_2 (float):    y coordinate of circle center\n",
        "\n",
        "    '''\n",
        "    phis = np.arange(phi_0, phi_1, 0.01)\n",
        "    return xy(r, phis, c_1, c_2)\n",
        "\n",
        "\n",
        "a = 1.0\n",
        "\n",
        "fig = plt.figure(figsize=(8,8))\n",
        "ax = fig.add_subplot(111,aspect='equal')\n",
        "\n",
        "ax.plot(*circle(2., 0, np.pi/2))\n",
        "ax.plot(*circle(a, -np.pi/2, np.pi/2, 0, a))\n",
        "ax.plot(*circle(a/2, c_1=a*np.sqrt(2), c_2=a/2))\n",
        "\n",
        "# Horizontal line\n",
        "ax.plot([0,0,0], zorder = 1)\n",
        "\n",
        "# Vertical line\n",
        "ax.plot([0,0,0], [0,1,2], zorder = 1)\n",
        "\n",
        "# Hide axis\n",
        "ax.spines['top'].set_visible(False)\n",
        "ax.spines['right'].set_visible(False)\n",
        "ax.spines['left'].set_color('none')\n",
        "ax.spines['bottom'].set_color('none')\n",
        "\n",
        "ax.spines['bottom'].set_position('zero')  # type: ignore\n",
        "ax.spines['left'].set_position('zero')  # type: ignore\n",
        "\n",
        "# Set ticks\n",
        "ax.get_xaxis().set_ticks([a, 2*a])\n",
        "ax.get_yaxis().set_ticks([a, 2*a])\n",
        "ax.set_xticklabels(('$a$', '$2a$'))\n",
        "ax.set_yticklabels(('$a$', '$2a$'))\n",
        "\n",
        "plt.show()\n"
      ]
    }
  ],
  "metadata": {
    "colab": {
      "name": "plot_circles.ipynb",
      "provenance": [],
      "version": "0.3.2"
    },
    "kernelspec": {
      "display_name": "Python 3.9.5 ('venv_deep_learning': venv)",
      "language": "python",
      "name": "python3"
    },
    "language_info": {
      "codemirror_mode": {
        "name": "ipython",
        "version": 3
      },
      "file_extension": ".py",
      "mimetype": "text/x-python",
      "name": "python",
      "nbconvert_exporter": "python",
      "pygments_lexer": "ipython3",
      "version": "3.9.5"
    },
    "vscode": {
      "interpreter": {
        "hash": "739c1830d1acc869fd7d80f318f6cacb69bc586c1b907357f29a7c477752c5a8"
      }
    }
  },
  "nbformat": 4,
  "nbformat_minor": 0
}
