{
 "cells": [
  {
   "cell_type": "markdown",
   "metadata": {},
   "source": [
    "Calcular el area del cuadrado"
   ]
  },
  {
   "cell_type": "code",
   "execution_count": 1,
   "metadata": {},
   "outputs": [],
   "source": [
    "from cmath import cos, pi, sin\n",
    "\n",
    "import matplotlib.pyplot as plt\n",
    "from matplotlib.patches import Circle, Polygon\n",
    "from pandas import array\n",
    "\n",
    "import numpy as np"
   ]
  },
  {
   "cell_type": "code",
   "execution_count": 2,
   "metadata": {},
   "outputs": [
    {
     "data": {
      "image/png": "[encoded data removed]",
      "text/plain": [
       "<Figure size 720x720 with 1 Axes>"
      ]
     },
     "metadata": {},
     "output_type": "display_data"
    }
   ],
   "source": [
    "from math import sqrt\n",
    "\n",
    "sq = 6/sqrt(13)\n",
    "a = 10/sqrt(13)\n",
    "\n",
    "A = [4.15, 0]\n",
    "B = [0, 10/sqrt(13)]\n",
    "C = [0, 0]\n",
    "\n",
    "D = [0, sq]\n",
    "E = [sq, sq]\n",
    "F = [sq, 0]\n",
    "\n",
    "\n",
    "# Traslate to 1,1\n",
    "A = [5.15, 1]\n",
    "B = [1, 1 + 10/sqrt(13)]\n",
    "C = [1, 1]\n",
    "D = [1, sq + 1]\n",
    "E = [sq + 1, sq + 1]\n",
    "F = [sq + 1, 1]\n",
    "\n",
    "fig, ax = plt.subplots(figsize=(10, 10))\n",
    "\n",
    "# triangle = Polygon(([0,0], [0,a], [4.15,0]), lw=.5)\n",
    "triangle = Polygon((A, B, C), True, color='white', ec='black', lw=1)\n",
    "polygon = Polygon((C, D, E, F), True, color='lightgray', ec='black', lw=.5)\n",
    "# plt.axline(B, C, lw = .5)\n",
    "\n",
    "# plt.axline([0, a], [sq, sq], lw = .5)\n",
    "# plt.axline([0, a], slope=-.67, lw = .5)\n",
    "ax.add_patch(triangle)\n",
    "ax.add_patch(polygon)\n",
    "\n",
    "# ax.spines['bottom'].set_position('zero')\n",
    "# ax.spines['left'].set_position('zero')\n",
    "\n",
    "# Origin at bottom left corner\n",
    "x_max = 6\n",
    "y_max = 6\n",
    "plt.xlim([0, x_max])\n",
    "plt.ylim([0, y_max])\n",
    "\n",
    "# ax.set_xlim(-6, 6)\n",
    "# ax.set_ylim(-6, 6)\n",
    "\n",
    "# Hide axis\n",
    "ax.spines['top'].set_visible(False)\n",
    "ax.spines['right'].set_visible(False)\n",
    "ax.spines['left'].set_color('none')\n",
    "ax.spines['bottom'].set_color('none')\n",
    "\n",
    "# Hide ticks \n",
    "ax.get_xaxis().set_ticks([])\n",
    "ax.get_yaxis().set_ticks([])\n",
    "\n",
    "plt.show()"
   ]
  }
 ],
 "metadata": {
  "kernelspec": {
   "display_name": "Python 3.9.5 ('venv_deep_learning': venv)",
   "language": "python",
   "name": "python3"
  },
  "language_info": {
   "codemirror_mode": {
    "name": "ipython",
    "version": 3
   },
   "file_extension": ".py",
   "mimetype": "text/x-python",
   "name": "python",
   "nbconvert_exporter": "python",
   "pygments_lexer": "ipython3",
   "version": "3.9.5"
  },
  "orig_nbformat": 4,
  "vscode": {
   "interpreter": {
    "hash": "739c1830d1acc869fd7d80f318f6cacb69bc586c1b907357f29a7c477752c5a8"
   }
  }
 },
 "nbformat": 4,
 "nbformat_minor": 2
}
