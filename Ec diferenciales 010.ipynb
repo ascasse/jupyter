{
 "cells": [
  {
   "cell_type": "markdown",
   "metadata": {},
   "source": [
    "### Nota sobre operar en cartesianas o polares\n",
    "\n",
    "En general, si operamos en cartesianas operaremos por analítica y utilizaremos \n",
    "$$ \\tan{\\alpha} = y' $$\n",
    "\n",
    "Si operamos en polares trabajaremos mediante métodos geométricos o trigonométricos y utilizaremos el ángulo $v$ que forma el radio vector con la tangente y cuyo valor se determina mediante\n",
    "$$ \\tan{v} = \\rho/{\\rho}' $$"
   ]
  },
  {
   "cell_type": "markdown",
   "metadata": {},
   "source": [
    "## Trayectorias oblícuas y ortogonales en polares\n",
    "\n",
    "Supongamos una familia de curvas \n",
    "$$ F(\\rho, \\omega, C) = 0 $$  \n",
    "Queremos hallar las curvas que cortan bajo ángulo \n",
    "$\\alpha$ a esta familia. Para ello derivamos respecto de $\\omega$.\n",
    "\n",
    "$$ F_{\\omega}'(\\rho, \\omega, \\rho_{D}', C) = 0 $$"
   ]
  }
 ],
 "metadata": {
  "kernelspec": {
   "display_name": "Python 3.8.3rc1 64-bit",
   "language": "python",
   "name": "python3"
  },
  "language_info": {
   "codemirror_mode": {
    "name": "ipython",
    "version": 3
   },
   "file_extension": ".py",
   "mimetype": "text/x-python",
   "name": "python",
   "nbconvert_exporter": "python",
   "pygments_lexer": "ipython3",
   "version": "3.8.3"
  },
  "vscode": {
   "interpreter": {
    "hash": "594a94411ce19a9aa0cb2fcd8b3f24a4086db953a7c4a15bcfe156139ff78dc4"
   }
  }
 },
 "nbformat": 4,
 "nbformat_minor": 4
}
