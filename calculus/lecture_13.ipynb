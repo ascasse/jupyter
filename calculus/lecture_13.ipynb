{
 "metadata": {
  "language_info": {
   "codemirror_mode": {
    "name": "ipython",
    "version": 3
   },
   "file_extension": ".py",
   "mimetype": "text/x-python",
   "name": "python",
   "nbconvert_exporter": "python",
   "pygments_lexer": "ipython3",
   "version": "3.8.3-candidate"
  },
  "orig_nbformat": 2,
  "kernelspec": {
   "name": "python38364bit4f1c9cd22fc94f66bb4652e831c05f86",
   "display_name": "Python 3.8.3 64-bit"
  }
 },
 "nbformat": 4,
 "nbformat_minor": 2,
 "cells": [
  {
   "cell_type": "markdown",
   "metadata": {},
   "source": [
    "# Lecture 13\n",
    "# Integration by partial fractions\n",
    "\n",
    "## Case III. Non-repeated non linear factors"
   ]
  },
  {
   "cell_type": "markdown",
   "metadata": {},
   "source": [
    "$$\n",
    "\\int \\frac{x \\mathop{dx}}{(x^2+x+1)(x-1)}\n",
    "$$"
   ]
  },
  {
   "cell_type": "markdown",
   "metadata": {},
   "source": [
    "$$\n",
    "x^2+x+1=0 \\\\\n",
    "x= \\frac{-1\\pm\\sqrt{1-4}}{2}\n",
    "$$"
   ]
  },
  {
   "cell_type": "markdown",
   "metadata": {},
   "source": [
    "$$\n",
    "\\frac{x}{(x^2+x+1)(x-1)} = \\frac{A}{x-1} + \\frac{Bx + C}{x^2+x+1}\n",
    "$$\n",
    "The number of unknown coefficients is equal to the degree of the polinomial in the denominator\n",
    "$$\n",
    "=\\frac{A(x^2+x+1)+(Bx+C)(x-1)}{(x^2+x+1)(x-1)}\n",
    "$$\n",
    "Try different values for x, starting with the roots of the numerator polinomials\n",
    "$$\n",
    "x = 1 \\quad \\Longrightarrow \\quad 3A = 1 \\quad\\Longrightarrow \\quad A = \\frac{1}{3}\n",
    "$$\n",
    "No more roots. Trying other values\n",
    "$$\n",
    "x = 0 \\quad \\Longrightarrow \\quad A - C = 0 \\quad \\Longrightarrow \\quad C = A = \\frac{1}{3}\n",
    "$$\n",
    "$$\n",
    "\\begin{align}\n",
    "x=-1 \\quad \\Longrightarrow \\quad A+2B-2C &= -1 \\\\\n",
    "\\frac{1}{3} + 2B - \\frac{2}{3} &= -1 \\\\\n",
    "B &= - \\frac{1}{3}\n",
    "\\end{align}\n",
    "$$"
   ]
  },
  {
   "cell_type": "markdown",
   "metadata": {},
   "source": [
    "$$\n",
    "\\begin{split}\n",
    "\\int \\frac{x}{(x^2+x+1)(x-1)}\\mathop{dx} & = \\int{\\frac{1}{3}\\frac{dx}{x-1}} + \\int{\\frac{1}{3}\\left(\\frac{-x+1}{x^2+x+1}\\right)\\mathop{dx}} \\\\\n",
    "\\\\\n",
    "& = \\frac{1}{3} \\log{|x-1|} + \\frac{1}{3}\\int{\\frac{-x+1}{x^2+x+1}\\mathop{dx}}\n",
    "\\end{split}\n",
    "$$"
   ]
  },
  {
   "cell_type": "markdown",
   "metadata": {},
   "source": [
    "$$\n",
    "\\int \\frac{-x + 1}{x^2 + x + 1} \\mathop{\\mathrm{d}x}\n",
    "$$\n",
    "Consider\n",
    "$$\n",
    "u = x^2 + x + 1 \\\\\n",
    "\\mathop{du} = (2x + 1) \\mathop{dx}\n",
    "$$\n",
    "We are looking for $ -x + 1 $\n",
    "$$\n",
    "-\\frac{1}{2}\\mathop{du} = \\left(-x-\\frac{1}{2}\\right)\\mathop{dx} = \\left(-x+1-\\frac{3}{2}\\right)\\mathop{dx}\n",
    "$$\n"
   ]
  },
  {
   "cell_type": "code",
   "execution_count": null,
   "metadata": {},
   "outputs": [],
   "source": []
  }
 ]
}