{
 "cells": [
  {
   "cell_type": "markdown",
   "metadata": {},
   "source": [
    "## Sample\n",
    "\n",
    "Sample notebook"
   ]
  },
  {
   "cell_type": "markdown",
   "metadata": {
    "collapsed": true
   },
   "source": [
    "$$\\sum_{i=0}^n i^2 = \\frac{(n^2+n)(2n+1)}{6}$$\n",
    "  \n",
    "    $$\\sum_{i=0}^n i^2 = \\frac{(n^2+n)(2n+1)}{6}$$\n"
   ]
  },
  {
   "cell_type": "markdown",
   "metadata": {
    "collapsed": true
   },
   "source": [
    "$$1^3+2^3+3^3+ ... +  = \\bigg(\\frac{(n^2+n)\\cdot(2n+1)}{2}\\bigg)^2$$\n",
    "  \n",
    "    $$1^3+2^3+3^3+ ... +  = \\bigg(\\frac{(n^2+n)\\cdot(2n+1)}{2}\\bigg)^2$$"
   ]
  }
 ],
 "metadata": {
  "kernelspec": {
   "display_name": "Python 3.10.6 ('venv': venv)",
   "language": "python",
   "name": "python3"
  },
  "language_info": {
   "codemirror_mode": {
    "name": "ipython",
    "version": 3
   },
   "file_extension": ".py",
   "mimetype": "text/x-python",
   "name": "python",
   "nbconvert_exporter": "python",
   "pygments_lexer": "ipython3",
   "version": "3.10.6"
  },
  "vscode": {
   "interpreter": {
    "hash": "18411214fdb22813c6650c97c557cf7d47d55901b636f0287c80d8e709bc1691"
   }
  }
 },
 "nbformat": 4,
 "nbformat_minor": 2
}
