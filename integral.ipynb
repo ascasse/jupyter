{
 "cells": [
  {
   "cell_type": "code",
   "execution_count": null,
   "metadata": {},
   "outputs": [],
   "source": [
    "import math\n",
    "import pandas as pd\n",
    "\n",
    "def x5(x):\n",
    "    return math.pow(x, 5)\n",
    "\n",
    "q = 1.2\n",
    "a = 1\n",
    "b = 5\n",
    "abscisas = []\n",
    "ordenadas = []\n",
    "areas = []\n",
    "\n",
    "for i in range(0, 6):\n",
    "    x = a * math.pow(q, i)\n",
    "    abscisas.append(x)\n",
    "    ordenadas.append(x5(x))\n",
    "\n",
    "for i in range(0, 5):\n",
    "    area = (abscisas[i+1]-abscisas[i]) * ordenadas[i]\n",
    "    areas.append(area)\n",
    "\n",
    "tabla = zip(abscisas, ordenadas, areas)\n",
    "\n",
    "pd.DataFrame([abscisas, ordenadas, areas])\n",
    "# pd.DataFrame(abscisas, columns=['abscisas'])\n"
   ]
  },
  {
   "cell_type": "markdown",
   "metadata": {},
   "source": [
    "Abscisas\n",
    "\n",
    "Supongamos que vamos a dividir el segmento ab en 5 rectángulos. Para simplificar los cálculos, se eligen las abscisas según una sucesión geométrica de razón $q$\n",
    "\n",
    "$$\n",
    "\\begin{align}\n",
    "    a &= a \\\\\n",
    "    a_1 &= a \\cdot q \\\\\n",
    "    a_2 &= a \\cdot q^2 \\\\\n",
    "    a_3 &= a \\cdot q^3 \\\\\n",
    "    a_4 &= a \\cdot q^4 \\\\\n",
    "\\end{align}\n",
    "$$"
   ]
  },
  {
   "cell_type": "markdown",
   "metadata": {},
   "source": [
    "Las distancias entre abscisas, que serán la base de los rectángulos, también son una sucesión geométrica de la misma razón.\n",
    "\n",
    "$$\n",
    "\\begin{align}\n",
    "    d1 &= a_1 - a = aq - a = a(q-1) \\\\\n",
    "    d2 &= a_2 - a_1 = aq^2 - aq = a(q-1)q \\\\\n",
    "    d3 &= a_3 - a_2 = aq^3 - aq^2 = a(q-1)q^2 \\\\\n",
    "    d4 &= a_4 - a_3 = aq^4 - aq^3 = a(q-1)q^3 \\\\\n",
    "    d5 &= a_5 - a_4 = aq^5 - aq^4 = a(q-1)q^4 \n",
    "\\end{align}\n",
    "$$"
   ]
  },
  {
   "cell_type": "markdown",
   "metadata": {},
   "source": [
    "$$\n",
    "\n",
    "\n",
    "$$"
   ]
  }
 ],
 "metadata": {
  "kernelspec": {
   "display_name": "Python 3.10.6 ('venv': venv)",
   "language": "python",
   "name": "python3"
  },
  "language_info": {
   "codemirror_mode": {
    "name": "ipython",
    "version": 3
   },
   "file_extension": ".py",
   "mimetype": "text/x-python",
   "name": "python",
   "nbconvert_exporter": "python",
   "pygments_lexer": "ipython3",
   "version": "3.10.6"
  },
  "orig_nbformat": 4,
  "vscode": {
   "interpreter": {
    "hash": "18411214fdb22813c6650c97c557cf7d47d55901b636f0287c80d8e709bc1691"
   }
  }
 },
 "nbformat": 4,
 "nbformat_minor": 2
}
